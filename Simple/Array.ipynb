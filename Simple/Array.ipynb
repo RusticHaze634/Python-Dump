{
 "cells": [
  {
   "cell_type": "markdown",
   "id": "787e2a29",
   "metadata": {},
   "source": [
    "## Array\n",
    "\n",
    "### 1. Python Program to find missing number in array"
   ]
  },
  {
   "cell_type": "code",
   "execution_count": 5,
   "id": "81c8566b",
   "metadata": {},
   "outputs": [
    {
     "name": "stdout",
     "output_type": "stream",
     "text": [
      "enter size of array : 4\n",
      "enter element of array : 1\n",
      "enter element of array : 2\n",
      "enter element of array : 4\n",
      "3\n"
     ]
    }
   ],
   "source": [
    "# Python Program to find missing number(only one) in array\n",
    "\n",
    "arr = []\n",
    "n = int(input(\"enter size of array : \"))\n",
    "for x in range(n-1):\n",
    "    x=int(input(\"enter element of array : \"))\n",
    "    arr.append(x)\n",
    "sum = (n*(n+1))/2;\n",
    "sumArr = 0\n",
    "for i in range(n-1):\n",
    "    sumArr = sumArr+arr[i];\n",
    "print(int(sum-sumArr)) "
   ]
  },
  {
   "cell_type": "markdown",
   "id": "0a4b1ecc",
   "metadata": {},
   "source": [
    "### 2. Python program to find duplicates in an Array"
   ]
  },
  {
   "cell_type": "code",
   "execution_count": 6,
   "id": "1cdf3f11",
   "metadata": {},
   "outputs": [
    {
     "name": "stdout",
     "output_type": "stream",
     "text": [
      "please enter the size of array: 5\n",
      "please enter the element of array element between 0 to 4 :3\n",
      "please enter the element of array element between 0 to 4 :2\n",
      "please enter the element of array element between 0 to 4 :2\n",
      "please enter the element of array element between 0 to 4 :3\n",
      "please enter the element of array element between 0 to 4 :2\n",
      "2 is repeated 3 times\n",
      "3 is repeated 2 times\n"
     ]
    }
   ],
   "source": [
    "### Python program to find duplicates in an Array\n",
    "\n",
    "arr, occur = [], [];\n",
    "n = int(input(\"please enter the size of array: \"))\n",
    "for x in range(n):\n",
    "    occur.append(0)\n",
    "for x in range(n):\n",
    "    element = int(input(f\"please enter the element of array element between 0 to {n-1} :\"))\n",
    "    arr.append(element)\n",
    "    occur[arr[x]]=occur[arr[x]]+1\n",
    "for x in range(n):\n",
    "    if occur[x]>1:\n",
    "        print(f\"{x} is repeated {occur[x]} times\") "
   ]
  },
  {
   "cell_type": "markdown",
   "id": "c1b93816",
   "metadata": {},
   "source": [
    "### 3. Program to check if two arrays are equal in Python"
   ]
  },
  {
   "cell_type": "code",
   "execution_count": 7,
   "id": "ab316fc8",
   "metadata": {},
   "outputs": [
    {
     "name": "stdout",
     "output_type": "stream",
     "text": [
      "array is equal\n"
     ]
    }
   ],
   "source": [
    "# Program to check if two arrays are equal in Python\n",
    "\n",
    "arr1=[1,2,3,4,5]\n",
    "arr2=[1,3,4,5,7]\n",
    "if len(arr1) == len(arr2):\n",
    "    print(\"array is equal\")\n",
    "else:\n",
    "    print(\"array is not equal\") "
   ]
  },
  {
   "cell_type": "markdown",
   "id": "882ed5f8",
   "metadata": {},
   "source": [
    "### 4. Python program to find smallest and largest number in Array"
   ]
  },
  {
   "cell_type": "code",
   "execution_count": 8,
   "id": "199a15bb",
   "metadata": {},
   "outputs": [
    {
     "name": "stdout",
     "output_type": "stream",
     "text": [
      "enter size of array : 4\n",
      "enter element of array : 3\n",
      "enter element of array : 4\n",
      "enter element of array : 5\n",
      "enter element of array : 2\n",
      "largest element in array is 5\n",
      "smallest element in array is 2\n"
     ]
    }
   ],
   "source": [
    "# Python program to find smallest and largest number in Array\n",
    "\n",
    "arr = []\n",
    "n = int(input(\"enter size of array : \"))\n",
    "for x in range(n):\n",
    "    x=int(input(\"enter element of array : \"))\n",
    "    arr.append(x)\n",
    "largest = arr[0]\n",
    "smallest = arr[0]\n",
    "for i in range(n):\n",
    "    if arr[i]>largest:\n",
    "        largest = arr[i]\n",
    "    if arr[i]<smallest:\n",
    "        smallest = arr[i]\n",
    "        \n",
    "print(f\"largest element in array is {largest}\")\n",
    "print(f\"smallest element in array is {smallest}\") "
   ]
  },
  {
   "cell_type": "markdown",
   "id": "e2285df9",
   "metadata": {},
   "source": [
    "### 5. Python program to find the second largest number in an array"
   ]
  },
  {
   "cell_type": "code",
   "execution_count": 9,
   "id": "27838801",
   "metadata": {},
   "outputs": [
    {
     "name": "stdout",
     "output_type": "stream",
     "text": [
      "enter size of array : 6\n",
      "enter element of array : 3\n",
      "enter element of array : 4\n",
      "enter element of array : 6\n",
      "enter element of array : 98\n",
      "enter element of array : 3\n",
      "enter element of array : 4\n",
      "second largest element is 6\n"
     ]
    }
   ],
   "source": [
    "# Python program to find the second largest number in an array\n",
    "\n",
    "import array\n",
    "arr = []\n",
    "n = int(input(\"enter size of array : \"))\n",
    "for x in range(n):\n",
    "    x=int(input(\"enter element of array : \"))\n",
    "    arr.append(x)\n",
    " \n",
    "sorted_array = sorted(array.array('i', arr))\n",
    "for i in range(len(arr)-1, 0, -1):\n",
    "    if sorted_array[i]!=sorted_array[i-1]:\n",
    "        print(f\"second largest element is {sorted_array[i-1]}\")\n",
    "        break "
   ]
  },
  {
   "cell_type": "markdown",
   "id": "238c6e02",
   "metadata": {},
   "source": [
    "### 6. Python Program to find top two maximum number in array"
   ]
  },
  {
   "cell_type": "code",
   "execution_count": 10,
   "id": "99aab9fb",
   "metadata": {},
   "outputs": [
    {
     "name": "stdout",
     "output_type": "stream",
     "text": [
      "enter size of array : 7\n",
      "enter element of array : 6\n",
      "enter element of array : 7\n",
      "enter element of array : 9\n",
      "enter element of array : 33\n",
      "enter element of array : 24\n",
      "enter element of array : 69\n",
      "enter element of array : 5\n",
      "First two largest element of array is 33 and 69\n"
     ]
    }
   ],
   "source": [
    "# Python Program to find top two maximum number in array\n",
    "\n",
    "import array\n",
    "arr = []\n",
    "n = int(input(\"enter size of array : \"))\n",
    "for x in range(n):\n",
    "    x=int(input(\"enter element of array : \"))\n",
    "    arr.append(x)\n",
    "sorted_array = sorted(array.array('i', arr))\n",
    "for i in range(len(arr)-1, 0, -1):\n",
    "    if sorted_array[i]!=sorted_array[i-1]:\n",
    "        print(f\"First two largest element of array is {sorted_array[i-1]} and {sorted_array[i]}\")\n",
    "        break "
   ]
  },
  {
   "cell_type": "markdown",
   "id": "1ea89df4",
   "metadata": {},
   "source": [
    "### 7. Python Program to remove duplicates from Array"
   ]
  },
  {
   "cell_type": "code",
   "execution_count": 12,
   "id": "e554ae8d",
   "metadata": {},
   "outputs": [
    {
     "name": "stdout",
     "output_type": "stream",
     "text": [
      "enter size of array : 5\n",
      "enter element of array : 78\n",
      "enter element of array : 34\n",
      "enter element of array : 24\n",
      "enter element of array : 69\n",
      "enter element of array : 23\n",
      "Array elements after removing duplicates\n"
     ]
    },
    {
     "ename": "IndexError",
     "evalue": "list index out of range",
     "output_type": "error",
     "traceback": [
      "\u001b[1;31m---------------------------------------------------------------------------\u001b[0m",
      "\u001b[1;31mIndexError\u001b[0m                                Traceback (most recent call last)",
      "Input \u001b[1;32mIn [12]\u001b[0m, in \u001b[0;36m<cell line: 11>\u001b[1;34m()\u001b[0m\n\u001b[0;32m     10\u001b[0m \u001b[38;5;28mprint\u001b[39m(\u001b[38;5;124m\"\u001b[39m\u001b[38;5;124mArray elements after removing duplicates\u001b[39m\u001b[38;5;124m\"\u001b[39m)\n\u001b[0;32m     11\u001b[0m \u001b[38;5;28;01mfor\u001b[39;00m x \u001b[38;5;129;01min\u001b[39;00m \u001b[38;5;28mrange\u001b[39m(n):\n\u001b[1;32m---> 12\u001b[0m     count[arr[x]]\u001b[38;5;241m=\u001b[39m\u001b[43mcount\u001b[49m\u001b[43m[\u001b[49m\u001b[43marr\u001b[49m\u001b[43m[\u001b[49m\u001b[43mx\u001b[49m\u001b[43m]\u001b[49m\u001b[43m]\u001b[49m\u001b[38;5;241m+\u001b[39m\u001b[38;5;241m1\u001b[39m\n\u001b[0;32m     13\u001b[0m     \u001b[38;5;28;01mif\u001b[39;00m count[arr[x]]\u001b[38;5;241m==\u001b[39m\u001b[38;5;241m1\u001b[39m:\n\u001b[0;32m     14\u001b[0m         \u001b[38;5;28mprint\u001b[39m(arr[x])\n",
      "\u001b[1;31mIndexError\u001b[0m: list index out of range"
     ]
    }
   ],
   "source": [
    "# Python Program to remove duplicates from Array\n",
    "\n",
    "import array\n",
    "arr, count = [],[]\n",
    "n = int(input(\"enter size of array : \"))\n",
    "for x in range(n):\n",
    "    count.append(0)\n",
    "    x=int(input(\"enter element of array : \"))\n",
    "    arr.append(x)\n",
    "print(\"Array elements after removing duplicates\")\n",
    "for x in range(n):\n",
    "    count[arr[x]]=count[arr[x]]+1\n",
    "    if count[arr[x]]==1:\n",
    "        print(arr[x]) \n",
    "        "
   ]
  },
  {
   "cell_type": "code",
   "execution_count": null,
   "id": "6778c4d8",
   "metadata": {},
   "outputs": [],
   "source": []
  }
 ],
 "metadata": {
  "kernelspec": {
   "display_name": "Python 3 (ipykernel)",
   "language": "python",
   "name": "python3"
  },
  "language_info": {
   "codemirror_mode": {
    "name": "ipython",
    "version": 3
   },
   "file_extension": ".py",
   "mimetype": "text/x-python",
   "name": "python",
   "nbconvert_exporter": "python",
   "pygments_lexer": "ipython3",
   "version": "3.9.12"
  }
 },
 "nbformat": 4,
 "nbformat_minor": 5
}
