{
 "cells": [
  {
   "cell_type": "markdown",
   "id": "5bccec42",
   "metadata": {},
   "source": [
    "## Conditionals & Control Flow\n",
    "\n",
    "### Condition"
   ]
  },
  {
   "cell_type": "code",
   "execution_count": 3,
   "id": "3ff4d56c",
   "metadata": {},
   "outputs": [
    {
     "name": "stdout",
     "output_type": "stream",
     "text": [
      "dance dance\n",
      "dance dance\n",
      "F00oolish!\n",
      "F00oolish!\n"
     ]
    }
   ],
   "source": [
    "gpa = [.95, 0.45]\n",
    "lowestgrade = [.75, 0.70]\n",
    "for i in gpa:\n",
    "    for k in lowestgrade:\n",
    "        if i >= .85 and k>=.70:\n",
    "            print('dance dance')\n",
    "        else:\n",
    "            print('F00oolish!')\n",
    "     "
   ]
  },
  {
   "cell_type": "markdown",
   "id": "9403a2c4",
   "metadata": {},
   "source": [
    "### Validation (with function)"
   ]
  },
  {
   "cell_type": "code",
   "execution_count": 4,
   "id": "e59d7cd6",
   "metadata": {},
   "outputs": [
    {
     "name": "stdout",
     "output_type": "stream",
     "text": [
      "Is valid\n"
     ]
    }
   ],
   "source": [
    "def print_hello(name: str) -> str:\n",
    "    \"\"\"\n",
    "    Greets the user by name\n",
    "        Parameters:\n",
    "            name (str): The name of the user\n",
    "        Returns:\n",
    "            str: The greeting\n",
    "    \"\"\"\n",
    "    print('Hello, ' + name)\n",
    "    \n",
    "x = 24\n",
    "if x == 24:\n",
    " print('Is valid')\n",
    "else:\n",
    "    print(\"Not valid\")\n",
    "\n",
    "def helper(name='sample'):\n",
    " pass\n",
    "\n",
    "def another(name = 'sample'):\n",
    "         pass"
   ]
  }
 ],
 "metadata": {
  "kernelspec": {
   "display_name": "Python 3 (ipykernel)",
   "language": "python",
   "name": "python3"
  },
  "language_info": {
   "codemirror_mode": {
    "name": "ipython",
    "version": 3
   },
   "file_extension": ".py",
   "mimetype": "text/x-python",
   "name": "python",
   "nbconvert_exporter": "python",
   "pygments_lexer": "ipython3",
   "version": "3.9.12"
  }
 },
 "nbformat": 4,
 "nbformat_minor": 5
}
