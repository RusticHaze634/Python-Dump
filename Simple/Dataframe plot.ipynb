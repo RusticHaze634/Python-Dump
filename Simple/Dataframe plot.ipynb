{
 "cells": [
  {
   "cell_type": "markdown",
   "id": "0d4a0d2b",
   "metadata": {},
   "source": [
    "## Dataframe plot for different columns"
   ]
  },
  {
   "cell_type": "code",
   "execution_count": 16,
   "id": "b24792ff",
   "metadata": {},
   "outputs": [
    {
     "data": {
      "text/html": [
       "<div>\n",
       "<style scoped>\n",
       "    .dataframe tbody tr th:only-of-type {\n",
       "        vertical-align: middle;\n",
       "    }\n",
       "\n",
       "    .dataframe tbody tr th {\n",
       "        vertical-align: top;\n",
       "    }\n",
       "\n",
       "    .dataframe thead th {\n",
       "        text-align: right;\n",
       "    }\n",
       "</style>\n",
       "<table border=\"1\" class=\"dataframe\">\n",
       "  <thead>\n",
       "    <tr style=\"text-align: right;\">\n",
       "      <th></th>\n",
       "      <th>train Loss</th>\n",
       "      <th>dev Loss</th>\n",
       "      <th>test Loss</th>\n",
       "    </tr>\n",
       "  </thead>\n",
       "  <tbody>\n",
       "    <tr>\n",
       "      <th>0</th>\n",
       "      <td>0.5478</td>\n",
       "      <td>0.4660</td>\n",
       "      <td>0.4154</td>\n",
       "    </tr>\n",
       "    <tr>\n",
       "      <th>1</th>\n",
       "      <td>0.4734</td>\n",
       "      <td>0.4282</td>\n",
       "      <td>0.3826</td>\n",
       "    </tr>\n",
       "    <tr>\n",
       "      <th>2</th>\n",
       "      <td>0.4526</td>\n",
       "      <td>0.4308</td>\n",
       "      <td>0.3664</td>\n",
       "    </tr>\n",
       "    <tr>\n",
       "      <th>3</th>\n",
       "      <td>0.4372</td>\n",
       "      <td>0.4364</td>\n",
       "      <td>0.3576</td>\n",
       "    </tr>\n",
       "    <tr>\n",
       "      <th>4</th>\n",
       "      <td>0.4260</td>\n",
       "      <td>0.4543</td>\n",
       "      <td>0.3843</td>\n",
       "    </tr>\n",
       "    <tr>\n",
       "      <th>5</th>\n",
       "      <td>0.4168</td>\n",
       "      <td>0.4158</td>\n",
       "      <td>0.3469</td>\n",
       "    </tr>\n",
       "    <tr>\n",
       "      <th>6</th>\n",
       "      <td>0.4091</td>\n",
       "      <td>0.4046</td>\n",
       "      <td>0.3351</td>\n",
       "    </tr>\n",
       "    <tr>\n",
       "      <th>7</th>\n",
       "      <td>0.4008</td>\n",
       "      <td>0.4160</td>\n",
       "      <td>0.3510</td>\n",
       "    </tr>\n",
       "    <tr>\n",
       "      <th>8</th>\n",
       "      <td>0.3965</td>\n",
       "      <td>0.3958</td>\n",
       "      <td>0.3402</td>\n",
       "    </tr>\n",
       "    <tr>\n",
       "      <th>9</th>\n",
       "      <td>0.3891</td>\n",
       "      <td>0.4011</td>\n",
       "      <td>0.3241</td>\n",
       "    </tr>\n",
       "  </tbody>\n",
       "</table>\n",
       "</div>"
      ],
      "text/plain": [
       "   train Loss  dev Loss  test Loss\n",
       "0      0.5478    0.4660     0.4154\n",
       "1      0.4734    0.4282     0.3826\n",
       "2      0.4526    0.4308     0.3664\n",
       "3      0.4372    0.4364     0.3576\n",
       "4      0.4260    0.4543     0.3843\n",
       "5      0.4168    0.4158     0.3469\n",
       "6      0.4091    0.4046     0.3351\n",
       "7      0.4008    0.4160     0.3510\n",
       "8      0.3965    0.3958     0.3402\n",
       "9      0.3891    0.4011     0.3241"
      ]
     },
     "execution_count": 16,
     "metadata": {},
     "output_type": "execute_result"
    }
   ],
   "source": [
    "# Import pandas library\n",
    "import pandas as pd\n",
    "  \n",
    "# initialize list of lists\n",
    "data = [[ 0.5478, 0.4660, 0.4154], \n",
    "        [  0.4734, 0.4282,0.3826], \n",
    "        [ 0.4526, 0.4308, 0.3664], \n",
    "        [0.4372, 0.4364,0.3576],\n",
    "        [0.4260, 0.4543,0.3843],\n",
    "        [0.4168,0.4158,0.3469],\n",
    "        [0.4091, 0.4046,0.3351],\n",
    "        [0.4008,0.4160,0.3510],\n",
    "        [0.3965, 0.3958, 0.3402],\n",
    "        [0.3891, 0.4011,0.3241]]\n",
    "  \n",
    "# Create the pandas DataFrame\n",
    "df = pd.DataFrame(data, columns=['train Loss','dev Loss','test Loss'])\n",
    "  \n",
    "# print dataframe.\n",
    "df"
   ]
  },
  {
   "cell_type": "markdown",
   "id": "84762bd3",
   "metadata": {},
   "source": [
    "## _The comparison of loss values for different data patches_"
   ]
  },
  {
   "cell_type": "code",
   "execution_count": 15,
   "id": "ddc13726",
   "metadata": {},
   "outputs": [
    {
     "data": {
      "text/plain": [
       "<AxesSubplot:>"
      ]
     },
     "execution_count": 15,
     "metadata": {},
     "output_type": "execute_result"
    },
    {
     "data": {
      "image/png": "[encoded data removed]",
      "text/plain": [
       "<Figure size 432x288 with 1 Axes>"
      ]
     },
     "metadata": {
      "needs_background": "light"
     },
     "output_type": "display_data"
    }
   ],
   "source": [
    "import matplotlib.pyplot as plt\n",
    "df.plot()"
   ]
  }
 ],
 "metadata": {
  "kernelspec": {
   "display_name": "Python 3 (ipykernel)",
   "language": "python",
   "name": "python3"
  },
  "language_info": {
   "codemirror_mode": {
    "name": "ipython",
    "version": 3
   },
   "file_extension": ".py",
   "mimetype": "text/x-python",
   "name": "python",
   "nbconvert_exporter": "python",
   "pygments_lexer": "ipython3",
   "version": "3.9.12"
  }
 },
 "nbformat": 4,
 "nbformat_minor": 5
}
