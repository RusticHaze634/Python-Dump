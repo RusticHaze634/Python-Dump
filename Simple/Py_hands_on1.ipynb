{
 "cells": [
  {
   "cell_type": "code",
   "execution_count": 3,
   "id": "b87230dc",
   "metadata": {},
   "outputs": [
    {
     "name": "stdout",
     "output_type": "stream",
     "text": [
      "Python 3.9.7\n"
     ]
    }
   ],
   "source": [
    "!python -V\n"
   ]
  },
  {
   "cell_type": "code",
   "execution_count": 4,
   "id": "c56bea36",
   "metadata": {},
   "outputs": [
    {
     "name": "stdout",
     "output_type": "stream",
     "text": [
      "3.9.7 (default, Sep 16 2021, 16:59:28) [MSC v.1916 64 bit (AMD64)]\n"
     ]
    }
   ],
   "source": [
    "import sys\n",
    "print(sys.version)"
   ]
  },
  {
   "cell_type": "code",
   "execution_count": null,
   "id": "8b2cc9e9",
   "metadata": {},
   "outputs": [],
   "source": []
  },
  {
   "cell_type": "markdown",
   "id": "36ca829b",
   "metadata": {},
   "source": [
    "### Conditionals & Control Flow "
   ]
  },
  {
   "cell_type": "code",
   "execution_count": 20,
   "id": "02e9ab2e",
   "metadata": {},
   "outputs": [
    {
     "name": "stdout",
     "output_type": "stream",
     "text": [
      "dance dance\n",
      "dance dance\n",
      "F00oolish!\n",
      "F00oolish!\n"
     ]
    }
   ],
   "source": [
    "gpa = [.95, 0.45]\n",
    "lowestgrade = [.75, 0.70]\n",
    "for i in gpa:\n",
    "    for k in lowestgrade:\n",
    "        if i >= .85 and k>=.70:\n",
    "            print('dance dance')\n",
    "        else:\n",
    "            print('F00oolish!')\n",
    "     "
   ]
  },
  {
   "cell_type": "code",
   "execution_count": 23,
   "id": "b4a6d90a",
   "metadata": {},
   "outputs": [
    {
     "name": "stdout",
     "output_type": "stream",
     "text": [
      "Is valid\n"
     ]
    }
   ],
   "source": [
    "def print_hello(name: str) -> str:\n",
    "    \"\"\"\n",
    "    Greets the user by name\n",
    "        Parameters:\n",
    "            name (str): The name of the user\n",
    "        Returns:\n",
    "            str: The greeting\n",
    "    \"\"\"\n",
    "    print('Hello, ' + name)\n",
    "    \n",
    "x = 24\n",
    "if x == 24:\n",
    " print('Is valid')\n",
    "else:\n",
    "    print(\"Not valid\")\n",
    "\n",
    "def helper(name='sample'):\n",
    " pass\n",
    "\n",
    "def another(name = 'sample'):\n",
    "         pass"
   ]
  },
  {
   "cell_type": "markdown",
   "id": "125fd33a",
   "metadata": {},
   "source": [
    "## Array"
   ]
  },
  {
   "cell_type": "markdown",
   "id": "1cebb43a",
   "metadata": {},
   "source": [
    "### 1. Python Program to find missing number in array"
   ]
  },
  {
   "cell_type": "code",
   "execution_count": 1,
   "id": "21556926",
   "metadata": {},
   "outputs": [
    {
     "name": "stdout",
     "output_type": "stream",
     "text": [
      "enter size of array : 5\n",
      "enter element of array : 1\n",
      "enter element of array : 2\n",
      "enter element of array : 4\n",
      "enter element of array : 5\n",
      "3\n"
     ]
    }
   ],
   "source": [
    "# Python Program to find missing number(only one) in array\n",
    "\n",
    "arr = []\n",
    "n = int(input(\"enter size of array : \"))\n",
    "for x in range(n-1):\n",
    "    x=int(input(\"enter element of array : \"))\n",
    "    arr.append(x)\n",
    "sum = (n*(n+1))/2;\n",
    "sumArr = 0\n",
    "for i in range(n-1):\n",
    "    sumArr = sumArr+arr[i];\n",
    "print(int(sum-sumArr)) "
   ]
  },
  {
   "cell_type": "markdown",
   "id": "1b668856",
   "metadata": {},
   "source": [
    "## Python program to find duplicates in an Array"
   ]
  },
  {
   "cell_type": "code",
   "execution_count": 6,
   "id": "ce2b621b",
   "metadata": {},
   "outputs": [
    {
     "name": "stdout",
     "output_type": "stream",
     "text": [
      "please enter the size of array: 5\n",
      "please enter the element of array element between 0 to 4 :2\n",
      "please enter the element of array element between 0 to 4 :3\n",
      "please enter the element of array element between 0 to 4 :4\n",
      "please enter the element of array element between 0 to 4 :1\n",
      "please enter the element of array element between 0 to 4 :1\n",
      "1 is repeated 2 times\n"
     ]
    }
   ],
   "source": [
    "### Python program to find duplicates in an Array\n",
    "\n",
    "arr, occur = [], [];\n",
    "n = int(input(\"please enter the size of array: \"))\n",
    "for x in range(n):\n",
    "    occur.append(0)\n",
    "for x in range(n):\n",
    "    element = int(input(f\"please enter the element of array element between 0 to {n-1} :\"))\n",
    "    arr.append(element)\n",
    "    occur[arr[x]]=occur[arr[x]]+1\n",
    "for x in range(n):\n",
    "    if occur[x]>1:\n",
    "        print(f\"{x} is repeated {occur[x]} times\") "
   ]
  },
  {
   "cell_type": "code",
   "execution_count": 7,
   "id": "d560713d",
   "metadata": {},
   "outputs": [
    {
     "name": "stdout",
     "output_type": "stream",
     "text": [
      "array is equal\n"
     ]
    }
   ],
   "source": [
    "# Program to check if two arrays are equal in Python\n",
    "\n",
    "arr1=[1,2,3,4,5]\n",
    "arr2=[1,3,4,5,7]\n",
    "if len(arr1) == len(arr2):\n",
    "    print(\"array is equal\")\n",
    "else:\n",
    "    print(\"array is not equal\") "
   ]
  },
  {
   "cell_type": "code",
   "execution_count": 8,
   "id": "5a4c7e44",
   "metadata": {},
   "outputs": [
    {
     "name": "stdout",
     "output_type": "stream",
     "text": [
      "enter size of array : 5\n",
      "enter element of array : 4\n",
      "enter element of array : 5\n",
      "enter element of array : 6\n",
      "enter element of array : 78\n",
      "enter element of array : 8\n",
      "largest element in array is 78\n",
      "smallest element in array is 4\n"
     ]
    }
   ],
   "source": [
    "# Python program to find smallest and largest number in Array\n",
    "\n",
    "arr = []\n",
    "n = int(input(\"enter size of array : \"))\n",
    "for x in range(n):\n",
    "    x=int(input(\"enter element of array : \"))\n",
    "    arr.append(x)\n",
    "largest = arr[0]\n",
    "smallest = arr[0]\n",
    "for i in range(n):\n",
    "    if arr[i]>largest:\n",
    "        largest = arr[i]\n",
    "    if arr[i]<smallest:\n",
    "        smallest = arr[i]\n",
    "        \n",
    "print(f\"largest element in array is {largest}\")\n",
    "print(f\"smallest element in array is {smallest}\") "
   ]
  },
  {
   "cell_type": "code",
   "execution_count": 9,
   "id": "5e317e35",
   "metadata": {},
   "outputs": [
    {
     "name": "stdout",
     "output_type": "stream",
     "text": [
      "enter size of array : 4\n",
      "enter element of array : 3\n",
      "enter element of array : 98\n",
      "enter element of array : 45\n",
      "enter element of array : 48\n",
      "second largest element is 48\n"
     ]
    }
   ],
   "source": [
    "# Python program to find the second largest number in an array\n",
    "\n",
    "import array\n",
    "arr = []\n",
    "n = int(input(\"enter size of array : \"))\n",
    "for x in range(n):\n",
    "    x=int(input(\"enter element of array : \"))\n",
    "    arr.append(x)\n",
    " \n",
    "sorted_array = sorted(array.array('i', arr))\n",
    "for i in range(len(arr)-1, 0, -1):\n",
    "    if sorted_array[i]!=sorted_array[i-1]:\n",
    "        print(f\"second largest element is {sorted_array[i-1]}\")\n",
    "        break "
   ]
  },
  {
   "cell_type": "code",
   "execution_count": 10,
   "id": "adf7d3d3",
   "metadata": {},
   "outputs": [
    {
     "name": "stdout",
     "output_type": "stream",
     "text": [
      "enter size of array : 7\n",
      "enter element of array : 67\n",
      "enter element of array : 245\n",
      "enter element of array : 894\n",
      "enter element of array : 027\n",
      "enter element of array : 3653\n",
      "enter element of array : 53\n",
      "enter element of array : 6\n",
      "First two largest element of array is 894 and 3653\n"
     ]
    }
   ],
   "source": [
    "# Python Program to find top two maximum number in array\n",
    "\n",
    "import array\n",
    "arr = []\n",
    "n = int(input(\"enter size of array : \"))\n",
    "for x in range(n):\n",
    "    x=int(input(\"enter element of array : \"))\n",
    "    arr.append(x)\n",
    "sorted_array = sorted(array.array('i', arr))\n",
    "for i in range(len(arr)-1, 0, -1):\n",
    "    if sorted_array[i]!=sorted_array[i-1]:\n",
    "        print(f\"First two largest element of array is {sorted_array[i-1]} and {sorted_array[i]}\")\n",
    "        break "
   ]
  },
  {
   "cell_type": "code",
   "execution_count": null,
   "id": "ff60ffcb",
   "metadata": {},
   "outputs": [],
   "source": [
    "# Python Program to remove duplicates from Array\n",
    "\n",
    "import array\n",
    "arr, count = [],[]\n",
    "n = int(input(\"enter size of array : \"))\n",
    "for x in range(n):\n",
    "    count.append(0)\n",
    "    x=int(input(\"enter element of array : \"))\n",
    "    arr.append(x)\n",
    "print(\"Array elements after removing duplicates\")\n",
    "for x in range(n):\n",
    "    count[arr[x]]=count[arr[x]]+1\n",
    "    if count[arr[x]]==1:\n",
    "        print(arr[x]) \n",
    "        "
   ]
  },
  {
   "cell_type": "markdown",
   "id": "3e0b0c97",
   "metadata": {},
   "source": [
    "Link: https://quescol.com/interview-preparation/python-coding-question#"
   ]
  },
  {
   "cell_type": "code",
   "execution_count": 1,
   "id": "9bc6ce86",
   "metadata": {},
   "outputs": [
    {
     "name": "stderr",
     "output_type": "stream",
     "text": [
      "100%|██████████| 1980/1980 [00:00<00:00, 992200.95it/s]\n"
     ]
    }
   ],
   "source": [
    "from tqdm import tqdm\n",
    "for i in tqdm(range(20,2000)):\n",
    "  a = []\n",
    "  a.append(i)"
   ]
  },
  {
   "cell_type": "code",
   "execution_count": null,
   "id": "3a560494",
   "metadata": {},
   "outputs": [],
   "source": []
  },
  {
   "cell_type": "code",
   "execution_count": null,
   "id": "8ae146e3",
   "metadata": {},
   "outputs": [],
   "source": []
  }
 ],
 "metadata": {
  "kernelspec": {
   "display_name": "Python 3 (ipykernel)",
   "language": "python",
   "name": "python3"
  },
  "language_info": {
   "codemirror_mode": {
    "name": "ipython",
    "version": 3
   },
   "file_extension": ".py",
   "mimetype": "text/x-python",
   "name": "python",
   "nbconvert_exporter": "python",
   "pygments_lexer": "ipython3",
   "version": "3.9.12"
  }
 },
 "nbformat": 4,
 "nbformat_minor": 5
}
