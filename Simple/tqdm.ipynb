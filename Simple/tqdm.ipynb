{
 "cells": [
  {
   "cell_type": "markdown",
   "id": "05064ec6",
   "metadata": {},
   "source": [
    "## Terminal progress bar using tqdm"
   ]
  },
  {
   "cell_type": "code",
   "execution_count": 13,
   "id": "4dfa22c1",
   "metadata": {},
   "outputs": [
    {
     "name": "stderr",
     "output_type": "stream",
     "text": [
      "100%|██████████| 1999980/1999980 [00:00<00:00, 2260064.75it/s]\n"
     ]
    }
   ],
   "source": [
    "from tqdm import tqdm\n",
    "for i in tqdm(range(20,2000000)):\n",
    "  a = []\n",
    "  a.append(i)"
   ]
  }
 ],
 "metadata": {
  "kernelspec": {
   "display_name": "Python 3 (ipykernel)",
   "language": "python",
   "name": "python3"
  },
  "language_info": {
   "codemirror_mode": {
    "name": "ipython",
    "version": 3
   },
   "file_extension": ".py",
   "mimetype": "text/x-python",
   "name": "python",
   "nbconvert_exporter": "python",
   "pygments_lexer": "ipython3",
   "version": "3.9.12"
  }
 },
 "nbformat": 4,
 "nbformat_minor": 5
}
